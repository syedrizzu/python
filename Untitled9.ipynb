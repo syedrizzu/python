{
 "cells": [
  {
   "cell_type": "markdown",
   "id": "08e9bc8d",
   "metadata": {},
   "source": [
    "# 03/11/2023"
   ]
  },
  {
   "cell_type": "code",
   "execution_count": 20,
   "id": "2282f23b",
   "metadata": {},
   "outputs": [
    {
     "name": "stdout",
     "output_type": "stream",
     "text": [
      "circle\n",
      "circle\n",
      "circle\n"
     ]
    }
   ],
   "source": [
    "a=['circle','circle','square','triangle','square','circle']\n",
    "for i in a:\n",
    "    #print(i)\n",
    "    if i=='circle':\n",
    "        print(i)"
   ]
  },
  {
   "cell_type": "code",
   "execution_count": 24,
   "id": "e7ee614a",
   "metadata": {},
   "outputs": [
    {
     "name": "stdout",
     "output_type": "stream",
     "text": [
      "circle\n",
      "circle\n",
      "circle\n"
     ]
    }
   ],
   "source": [
    "for i in a: #try1\n",
    "    #print(i)\n",
    "    if i =='circle':\n",
    "        print(i)\n",
    "        "
   ]
  },
  {
   "cell_type": "code",
   "execution_count": 78,
   "id": "62bc5eef",
   "metadata": {},
   "outputs": [
    {
     "name": "stdout",
     "output_type": "stream",
     "text": [
      "{'circle': 3}\n"
     ]
    }
   ],
   "source": [
    "a=('circle','circle','square','triangle','square','circle')\n",
    "d={}\n",
    "j=0\n",
    "for i in a:\n",
    "    if i=='circle':\n",
    "        j=j+1\n",
    "        d[i]= j\n",
    "print(d)"
   ]
  },
  {
   "cell_type": "code",
   "execution_count": 90,
   "id": "126ca01a",
   "metadata": {},
   "outputs": [
    {
     "name": "stdout",
     "output_type": "stream",
     "text": [
      "296\n"
     ]
    }
   ],
   "source": [
    "a=[40,30,10,12,32,45,37,90]\n",
    "total=0\n",
    "for i in a:\n",
    "    total=total+ i\n",
    "    #total+= i\n",
    "print(total)\n",
    "     "
   ]
  },
  {
   "cell_type": "code",
   "execution_count": 102,
   "id": "83e84ff4",
   "metadata": {
    "scrolled": true
   },
   "outputs": [
    {
     "name": "stdout",
     "output_type": "stream",
     "text": [
      "296\n"
     ]
    }
   ],
   "source": [
    "a=[1,232,40,30,10,12,32,45,37,90]\n",
    "j=0\n",
    "for i in a:\n",
    "    if 10 <= i <=99:\n",
    "        j=j+i        \n",
    "print(j)\n",
    "    "
   ]
  },
  {
   "cell_type": "code",
   "execution_count": 1,
   "id": "66cb30bc",
   "metadata": {},
   "outputs": [],
   "source": [
    "#from a list of number calculate 2 digit and create trinagle shape *"
   ]
  },
  {
   "cell_type": "code",
   "execution_count": 12,
   "id": "c25054cb",
   "metadata": {
    "scrolled": true
   },
   "outputs": [
    {
     "name": "stdout",
     "output_type": "stream",
     "text": [
      "enter the number of rows:5\n",
      "*\n",
      "**\n",
      "***\n",
      "****\n",
      "*****\n"
     ]
    }
   ],
   "source": [
    "n=int(input(\"enter the number of rows:\"))\n",
    "for i in range(1, n+1):\n",
    "    for j in range(1,i+1):\n",
    "        print(\"*\",end=\"\")\n",
    "    print( )"
   ]
  },
  {
   "cell_type": "code",
   "execution_count": 5,
   "id": "dc4eefb1",
   "metadata": {
    "scrolled": true
   },
   "outputs": [
    {
     "name": "stdout",
     "output_type": "stream",
     "text": [
      "enter the numbers of rows5\n",
      "    1\n",
      "   111\n",
      "  11111\n",
      " 1111111\n",
      "111111111\n"
     ]
    }
   ],
   "source": [
    "n=int(input(\"enter the numbers of rows\"))\n",
    "for i in range(n):\n",
    "    for j in range(n-i-1):\n",
    "        print(\" \",end=\"\")\n",
    "    for j in range(2*i+1):\n",
    "        print(\"1\",end=\"\")\n",
    "    print()"
   ]
  },
  {
   "cell_type": "code",
   "execution_count": 15,
   "id": "2bea69be",
   "metadata": {},
   "outputs": [
    {
     "name": "stdout",
     "output_type": "stream",
     "text": [
      "40\n",
      "30\n",
      "10\n",
      "12\n",
      "32\n",
      "45\n",
      "37\n",
      "90\n"
     ]
    }
   ],
   "source": [
    "a=[1,232,40,30,10,12,32,45,37,90]\n",
    "for num in a:\n",
    "    if 10<= num <100:\n",
    "        print(num)"
   ]
  },
  {
   "cell_type": "code",
   "execution_count": 88,
   "id": "1e312ccf",
   "metadata": {},
   "outputs": [
    {
     "name": "stdout",
     "output_type": "stream",
     "text": [
      "40 30 10 12 32 45 37 90 "
     ]
    }
   ],
   "source": [
    "a=[1,232,40,30,10,12,32,45,37,90]\n",
    "for num in a:\n",
    "    if 10<= num <100:\n",
    "        print(num,end=' ')"
   ]
  },
  {
   "cell_type": "code",
   "execution_count": 11,
   "id": "ab356b42",
   "metadata": {},
   "outputs": [
    {
     "name": "stdout",
     "output_type": "stream",
     "text": [
      "* * * * \n",
      "* * * * \n",
      "* * * * \n",
      "* * * * \n"
     ]
    }
   ],
   "source": [
    "n=4\n",
    "for i in range(n):\n",
    "    for j in range(n):\n",
    "        print('*',end=\" \")\n",
    "    print()"
   ]
  },
  {
   "cell_type": "code",
   "execution_count": 19,
   "id": "267c55e6",
   "metadata": {
    "scrolled": true
   },
   "outputs": [
    {
     "name": "stdout",
     "output_type": "stream",
     "text": [
      "* * * * * \n",
      "* * * * \n",
      "* * * \n",
      "* * \n",
      "* \n"
     ]
    }
   ],
   "source": [
    "n=5;\n",
    "for i in range(n):\n",
    "    for j in range(i,n):\n",
    "        print('*',end=' ')\n",
    "    print()"
   ]
  },
  {
   "cell_type": "code",
   "execution_count": 22,
   "id": "77cc5cd0",
   "metadata": {},
   "outputs": [
    {
     "name": "stdout",
     "output_type": "stream",
     "text": [
      "*\n",
      "**\n",
      "***\n",
      "****\n",
      "*****\n"
     ]
    }
   ],
   "source": [
    "n=5\n",
    "for i in range(n):\n",
    "    for j in range(i,n):\n",
    "        print('',end='')\n",
    "        \n",
    "    for j in range(i+1):\n",
    "        print('*',end='')\n",
    "    print()"
   ]
  },
  {
   "cell_type": "code",
   "execution_count": 23,
   "id": "c978c705",
   "metadata": {},
   "outputs": [],
   "source": [
    "class car():\n",
    "    def engine(self):\n",
    "        print(\"car engine\")\n",
    "    def cluth(self):\n",
    "        print(\"car cluth\")"
   ]
  },
  {
   "cell_type": "code",
   "execution_count": 24,
   "id": "44477231",
   "metadata": {},
   "outputs": [
    {
     "name": "stdout",
     "output_type": "stream",
     "text": [
      "<__main__.car object at 0x0000018D4B5857C0>\n"
     ]
    }
   ],
   "source": [
    "a=car()\n",
    "print(a)"
   ]
  },
  {
   "cell_type": "code",
   "execution_count": 25,
   "id": "8c0c51e3",
   "metadata": {},
   "outputs": [],
   "source": [
    "class truck():\n",
    "    def engine(self):\n",
    "        print(\"truck engine\")\n",
    "    def cluth(self):\n",
    "        print(\"truck cluth\")"
   ]
  },
  {
   "cell_type": "code",
   "execution_count": 26,
   "id": "2b3554f7",
   "metadata": {},
   "outputs": [
    {
     "name": "stdout",
     "output_type": "stream",
     "text": [
      "<__main__.truck object at 0x0000018D4B56FD30>\n"
     ]
    }
   ],
   "source": [
    "b=truck()\n",
    "print(b)"
   ]
  },
  {
   "cell_type": "code",
   "execution_count": 27,
   "id": "50c9be4e",
   "metadata": {},
   "outputs": [
    {
     "name": "stdout",
     "output_type": "stream",
     "text": [
      "car engine\n"
     ]
    }
   ],
   "source": [
    "a.engine()"
   ]
  },
  {
   "cell_type": "code",
   "execution_count": 28,
   "id": "de76b99d",
   "metadata": {},
   "outputs": [
    {
     "name": "stdout",
     "output_type": "stream",
     "text": [
      "truck engine\n"
     ]
    }
   ],
   "source": [
    "b.engine()"
   ]
  },
  {
   "cell_type": "code",
   "execution_count": 29,
   "id": "68afdff6",
   "metadata": {},
   "outputs": [
    {
     "name": "stdout",
     "output_type": "stream",
     "text": [
      "car cluth\n",
      "truck cluth\n"
     ]
    }
   ],
   "source": [
    "a.cluth()\n",
    "b.cluth()"
   ]
  },
  {
   "cell_type": "code",
   "execution_count": 62,
   "id": "b6336356",
   "metadata": {
    "scrolled": false
   },
   "outputs": [
    {
     "name": "stdout",
     "output_type": "stream",
     "text": [
      "25\n",
      "-5\n",
      "150\n",
      "0.6666666666666666\n"
     ]
    }
   ],
   "source": [
    "class calculator():    # try 1\n",
    "    def add(self,a,b):\n",
    "        print(a+b)\n",
    "    def sub(self,a,b):\n",
    "        print(a-b)\n",
    "    def multi(self,a,b):\n",
    "        print(a*b)\n",
    "    def divi(self,a,b):\n",
    "        print(a/b)\n",
    "        \n",
    "c=calculator()\n",
    "c.add(10,15)\n",
    "c.sub(10,15)\n",
    "c.multi(10,15)\n",
    "c.divi(10,15)"
   ]
  },
  {
   "cell_type": "code",
   "execution_count": 66,
   "id": "6d1493b1",
   "metadata": {},
   "outputs": [
    {
     "name": "stdout",
     "output_type": "stream",
     "text": [
      "1033\n"
     ]
    }
   ],
   "source": [
    "class calci():   #try 2\n",
    "    def add(self,a,b):\n",
    "        print(a+b)\n",
    "    def sub(self,a,b):\n",
    "        print(a-b)\n",
    "    def multi(self,a,b):\n",
    "        print(a*b)\n",
    "    def divi(self,a,b):\n",
    "        print(a/b)\n",
    "c=calci()\n",
    "c.add(1000,33)"
   ]
  },
  {
   "cell_type": "markdown",
   "id": "69d00a82",
   "metadata": {},
   "source": []
  },
  {
   "cell_type": "code",
   "execution_count": 93,
   "id": "8af6d37b",
   "metadata": {},
   "outputs": [
    {
     "name": "stdout",
     "output_type": "stream",
     "text": [
      "296\n"
     ]
    }
   ],
   "source": [
    "a=[1,232,765,40,30,10,12,32,45,37,90] # calculate 2 digit\n",
    "j=0\n",
    "for i in a:\n",
    "    if 10 <=  i <=100:\n",
    "        j+=i\n",
    "print(j)"
   ]
  },
  {
   "cell_type": "code",
   "execution_count": 101,
   "id": "4875a709",
   "metadata": {},
   "outputs": [
    {
     "name": "stdout",
     "output_type": "stream",
     "text": [
      "997\n"
     ]
    }
   ],
   "source": [
    "a=[1,232,765,40,30,10,12,32,45,37,90] # calculate 3 digit\n",
    "j=0\n",
    "for i in a:\n",
    "    if 10 <=  i >=100:\n",
    "        j+=i\n",
    "print(j)"
   ]
  },
  {
   "cell_type": "code",
   "execution_count": 99,
   "id": "98735090",
   "metadata": {},
   "outputs": [
    {
     "name": "stdout",
     "output_type": "stream",
     "text": [
      "0\n"
     ]
    }
   ],
   "source": [
    "a=[1,3,232,765,40,30,10,12,32,45,37,90] # calculate 1 digit\n",
    "j=0\n",
    "for i in a:\n",
    "    if 10 <=  i <=1:\n",
    "        j+=i\n",
    "print(j)"
   ]
  },
  {
   "cell_type": "code",
   "execution_count": null,
   "id": "07e528ad",
   "metadata": {},
   "outputs": [],
   "source": []
  }
 ],
 "metadata": {
  "kernelspec": {
   "display_name": "Python 3 (ipykernel)",
   "language": "python",
   "name": "python3"
  },
  "language_info": {
   "codemirror_mode": {
    "name": "ipython",
    "version": 3
   },
   "file_extension": ".py",
   "mimetype": "text/x-python",
   "name": "python",
   "nbconvert_exporter": "python",
   "pygments_lexer": "ipython3",
   "version": "3.9.13"
  }
 },
 "nbformat": 4,
 "nbformat_minor": 5
}
