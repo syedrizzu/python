{
 "cells": [
  {
   "cell_type": "markdown",
   "id": "b7fa3b26",
   "metadata": {},
   "source": [
    "# range"
   ]
  },
  {
   "cell_type": "code",
   "execution_count": 1,
   "id": "7e76a1a6",
   "metadata": {},
   "outputs": [
    {
     "data": {
      "text/plain": [
       "range(0, 500)"
      ]
     },
     "execution_count": 1,
     "metadata": {},
     "output_type": "execute_result"
    }
   ],
   "source": [
    "range(500)"
   ]
  },
  {
   "cell_type": "code",
   "execution_count": 2,
   "id": "1374580a",
   "metadata": {},
   "outputs": [
    {
     "data": {
      "text/plain": [
       "[0,\n",
       " 1,\n",
       " 2,\n",
       " 3,\n",
       " 4,\n",
       " 5,\n",
       " 6,\n",
       " 7,\n",
       " 8,\n",
       " 9,\n",
       " 10,\n",
       " 11,\n",
       " 12,\n",
       " 13,\n",
       " 14,\n",
       " 15,\n",
       " 16,\n",
       " 17,\n",
       " 18,\n",
       " 19,\n",
       " 20,\n",
       " 21,\n",
       " 22,\n",
       " 23,\n",
       " 24,\n",
       " 25,\n",
       " 26,\n",
       " 27,\n",
       " 28,\n",
       " 29,\n",
       " 30,\n",
       " 31,\n",
       " 32,\n",
       " 33,\n",
       " 34,\n",
       " 35,\n",
       " 36,\n",
       " 37,\n",
       " 38,\n",
       " 39,\n",
       " 40,\n",
       " 41,\n",
       " 42,\n",
       " 43,\n",
       " 44,\n",
       " 45,\n",
       " 46,\n",
       " 47,\n",
       " 48,\n",
       " 49]"
      ]
     },
     "execution_count": 2,
     "metadata": {},
     "output_type": "execute_result"
    }
   ],
   "source": [
    "list(range(50))"
   ]
  },
  {
   "cell_type": "code",
   "execution_count": 13,
   "id": "4912c457",
   "metadata": {},
   "outputs": [
    {
     "data": {
      "text/plain": [
       "[10, 11, 12, 13, 14, 15, 16, 17, 18]"
      ]
     },
     "execution_count": 13,
     "metadata": {},
     "output_type": "execute_result"
    }
   ],
   "source": [
    "list(range(10,19))"
   ]
  },
  {
   "cell_type": "code",
   "execution_count": 7,
   "id": "8ee5b1ec",
   "metadata": {
    "scrolled": false
   },
   "outputs": [
    {
     "name": "stdout",
     "output_type": "stream",
     "text": [
      "0\n",
      "1\n",
      "2\n",
      "3\n",
      "4\n",
      "5\n",
      "6\n",
      "7\n",
      "8\n",
      "9\n"
     ]
    }
   ],
   "source": [
    "for i in range(10):\n",
    "    print(i)"
   ]
  },
  {
   "cell_type": "code",
   "execution_count": 9,
   "id": "3b5b51cd",
   "metadata": {},
   "outputs": [],
   "source": [
    "a=[\"dinesh\",\"kishor\"]"
   ]
  },
  {
   "cell_type": "code",
   "execution_count": 10,
   "id": "a7bc945b",
   "metadata": {},
   "outputs": [
    {
     "name": "stdout",
     "output_type": "stream",
     "text": [
      "dinesh\n",
      "kishor\n"
     ]
    }
   ],
   "source": [
    "for i in a:\n",
    "    print(i)"
   ]
  },
  {
   "cell_type": "code",
   "execution_count": 52,
   "id": "60f7b434",
   "metadata": {},
   "outputs": [
    {
     "data": {
      "text/plain": [
       "[0, 3, 6, 9]"
      ]
     },
     "execution_count": 52,
     "metadata": {},
     "output_type": "execute_result"
    }
   ],
   "source": [
    "list(range(0,10,3))"
   ]
  },
  {
   "cell_type": "markdown",
   "id": "4fad7b23",
   "metadata": {},
   "source": [
    "for i in range (10):\n",
    "    #print(i)\n",
    "    if i %2==0:\n",
    "       # print(i)\n",
    "        l=[]\n",
    "        l.append(i)\n",
    "        print(l)"
   ]
  },
  {
   "cell_type": "code",
   "execution_count": 56,
   "id": "0dfd1b72",
   "metadata": {},
   "outputs": [
    {
     "name": "stdout",
     "output_type": "stream",
     "text": [
      "[0, 2, 4, 6, 8]\n"
     ]
    }
   ],
   "source": [
    "l=[]\n",
    "for i in range (10):\n",
    "    #print(i)\n",
    "    if i%2==0:\n",
    "        l.append(i)\n",
    "print(l)\n",
    "        \n"
   ]
  },
  {
   "cell_type": "code",
   "execution_count": 24,
   "id": "8ac2cef7",
   "metadata": {},
   "outputs": [],
   "source": [
    "l=[]"
   ]
  },
  {
   "cell_type": "code",
   "execution_count": 25,
   "id": "9729f422",
   "metadata": {},
   "outputs": [],
   "source": [
    "l.append(i)"
   ]
  },
  {
   "cell_type": "code",
   "execution_count": 27,
   "id": "db0d293c",
   "metadata": {},
   "outputs": [
    {
     "name": "stdout",
     "output_type": "stream",
     "text": [
      "[9]\n"
     ]
    }
   ],
   "source": [
    "print(l)"
   ]
  },
  {
   "cell_type": "code",
   "execution_count": 31,
   "id": "fbb2f8a0",
   "metadata": {},
   "outputs": [
    {
     "ename": "SyntaxError",
     "evalue": "invalid syntax (3933394705.py, line 2)",
     "output_type": "error",
     "traceback": [
      "\u001b[1;36m  File \u001b[1;32m\"C:\\Users\\User\\AppData\\Local\\Temp\\ipykernel_41232\\3933394705.py\"\u001b[1;36m, line \u001b[1;32m2\u001b[0m\n\u001b[1;33m    l.append(i) print(l)\u001b[0m\n\u001b[1;37m                ^\u001b[0m\n\u001b[1;31mSyntaxError\u001b[0m\u001b[1;31m:\u001b[0m invalid syntax\n"
     ]
    }
   ],
   "source": [
    "l=[]\n",
    "l.append(i) print(l)"
   ]
  },
  {
   "cell_type": "code",
   "execution_count": 47,
   "id": "0e727983",
   "metadata": {},
   "outputs": [
    {
     "name": "stdout",
     "output_type": "stream",
     "text": [
      "[1, 3, 5, 7, 9]\n"
     ]
    }
   ],
   "source": [
    "l=[]\n",
    "for i in range (10):\n",
    "    #print(i)\n",
    "    if i%2==1:\n",
    "        l.append(i)\n",
    "print(l)"
   ]
  },
  {
   "cell_type": "code",
   "execution_count": 70,
   "id": "4de3c0a4",
   "metadata": {},
   "outputs": [
    {
     "name": "stdout",
     "output_type": "stream",
     "text": [
      "name\n",
      "age\n"
     ]
    }
   ],
   "source": [
    "a={\"name\":\"kiran\",\"age\":20}\n",
    "for i in a.keys():\n",
    "    print(i)"
   ]
  },
  {
   "cell_type": "code",
   "execution_count": 72,
   "id": "c1fa91eb",
   "metadata": {},
   "outputs": [
    {
     "name": "stdout",
     "output_type": "stream",
     "text": [
      "kiran\n",
      "20\n"
     ]
    }
   ],
   "source": [
    "for i in a.values():\n",
    "    print(i)"
   ]
  },
  {
   "cell_type": "code",
   "execution_count": 74,
   "id": "cb89daaa",
   "metadata": {},
   "outputs": [
    {
     "name": "stdout",
     "output_type": "stream",
     "text": [
      "name\n",
      "kiran\n",
      "age\n",
      "20\n"
     ]
    }
   ],
   "source": [
    "for k,v in a.items():\n",
    "    print(k)\n",
    "    print(v)"
   ]
  },
  {
   "cell_type": "code",
   "execution_count": 97,
   "id": "d770ecf0",
   "metadata": {},
   "outputs": [],
   "source": [
    "a=[\"dinesh@gmail.com\",\"kiran@gmail.com\",\"kumar@yahoo.com\"]\n",
    "#a1=[\"dinesh\",\"kumar\",\"kiran\"] fetch name from mail\n",
    "#a2=[\"gmail\",\"yahoo\"] remove duplicate\n",
    "#b=[\"apple\",\"mango\",\"apple\",\"mango\",\"orange\"]\n",
    "#a1=[\"apple\":2,\"mango\":2,\"orange\":1] count of value\n",
    "#a2=[\"apple\",\"mango\",\"orange\"] individual value\n",
    "#a3=[\"apple\",Mango] duplicate"
   ]
  },
  {
   "cell_type": "code",
   "execution_count": 98,
   "id": "cb66daea",
   "metadata": {},
   "outputs": [
    {
     "name": "stdout",
     "output_type": "stream",
     "text": [
      "['dinesh@gmail.com', 'kiran@gmail.com', 'kumar@yahoo.com'] ['apple', 'mango', 'apple', 'mango', 'orange']\n"
     ]
    }
   ],
   "source": [
    "print(a,b)"
   ]
  },
  {
   "cell_type": "code",
   "execution_count": 161,
   "id": "76e4491f",
   "metadata": {},
   "outputs": [
    {
     "name": "stdout",
     "output_type": "stream",
     "text": [
      "dinesh\n",
      "kiran\n",
      "kumar\n"
     ]
    }
   ],
   "source": [
    "for i in a:\n",
    "    print(i.split(\"@\")[0])\n",
    "    \n",
    "\n"
   ]
  },
  {
   "cell_type": "code",
   "execution_count": 204,
   "id": "e1439e33",
   "metadata": {},
   "outputs": [
    {
     "name": "stdout",
     "output_type": "stream",
     "text": [
      "gmail\n",
      "gmail\n",
      "yahoo\n"
     ]
    }
   ],
   "source": [
    "for i in a:\n",
    "    b=(i.split('@')[1])\n",
    "    #print(b)\n",
    "    c=b.split('.')[0]\n",
    "    print(c)\n",
    "    \n",
    "\n"
   ]
  },
  {
   "cell_type": "code",
   "execution_count": 215,
   "id": "9342f753",
   "metadata": {
    "scrolled": true
   },
   "outputs": [
    {
     "name": "stdout",
     "output_type": "stream",
     "text": [
      "dinesh\n",
      "gmail\n",
      "kiran\n",
      "gmail\n",
      "kumar\n",
      "yahoo\n"
     ]
    }
   ],
   "source": [
    "a=[\"dinesh@gmail.com\",\"kiran@gmail.com\",\"kumar@yahoo.com\"]\n",
    "for i in a:\n",
    "    print(i.split('@')[0])\n",
    "    b=(i.split('@')[1])\n",
    "    #print(b)\n",
    "    c=b.split('.')[0]\n",
    "    print(c)\n",
    "        \n",
    "        \n",
    "        \n",
    "    \n"
   ]
  },
  {
   "cell_type": "code",
   "execution_count": 216,
   "id": "aba21ede",
   "metadata": {},
   "outputs": [
    {
     "name": "stdout",
     "output_type": "stream",
     "text": [
      "<class 'str'>\n"
     ]
    }
   ],
   "source": [
    "print(type(c))"
   ]
  },
  {
   "cell_type": "code",
   "execution_count": 9,
   "id": "2b28170b",
   "metadata": {},
   "outputs": [
    {
     "name": "stdout",
     "output_type": "stream",
     "text": [
      "dinesh\n",
      "gmail\n",
      "kiran\n",
      "gmail\n",
      "kumar\n",
      "yahoo\n"
     ]
    }
   ],
   "source": [
    "a=[\"dinesh@gmail.com\",\"kiran@gmail.com\",\"kumar@yahoo.com\"]\n",
    "for i in a:\n",
    "    print(i.split('@')[0])\n",
    "    b=(i.split('@')[1])\n",
    "    #print(b)\n",
    "    c=b.split('.')[0]\n",
    "    print(c)\n",
    "    \n",
    "    "
   ]
  },
  {
   "cell_type": "code",
   "execution_count": 2,
   "id": "c92478de",
   "metadata": {
    "scrolled": true
   },
   "outputs": [
    {
     "name": "stdout",
     "output_type": "stream",
     "text": [
      "['dinesh', 'kiran', 'kumar']\n",
      "['gmail', 'yahoo']\n"
     ]
    }
   ],
   "source": [
    "a=[\"dinesh@gmail.com\",\"kiran@gmail.com\",\"kumar@yahoo.com\"]\n",
    "l1=[]\n",
    "l2=[]\n",
    "for i in a:\n",
    "    name,domain=i.split('@')\n",
    "    l1.append(name)\n",
    "    c=domain[:len(domain)-4]\n",
    "    if c not in l2:\n",
    "        l2.append(domain[:len(domain)-4])\n",
    "print(l1)\n",
    "print(l2)"
   ]
  },
  {
   "cell_type": "code",
   "execution_count": 5,
   "id": "341cf1ae",
   "metadata": {
    "scrolled": true
   },
   "outputs": [
    {
     "name": "stdout",
     "output_type": "stream",
     "text": [
      " {'mango': 2, 'apple': 2, 'orange': 1}\n",
      " ['mango', 'apple', 'orange']\n",
      "['mango', 'apple']\n"
     ]
    }
   ],
   "source": [
    "b=[\"apple\",\"mango\",\"apple\",\"mango\",\"orange\"]\n",
    "#a1=[\"apple\":2,\"mango\":2,\"orange\":1] count of value\n",
    "#a2=[\"apple\",\"mango\",\"orange\"] individual value\n",
    "#a3=[\"apple\",Mango] duplicate\n",
    "d={e:b.count(e) for e in set(b)}\n",
    "print(\"\", d)\n",
    "i=list(d)\n",
    "print(\"\",i)\n",
    "duplicates = list(set([x for x in b if b.count(x) > 1]))\n",
    "print(duplicates)"
   ]
  },
  {
   "cell_type": "code",
   "execution_count": 66,
   "id": "e969aa39",
   "metadata": {
    "scrolled": true
   },
   "outputs": [
    {
     "name": "stdout",
     "output_type": "stream",
     "text": [
      "dinesh\n",
      "gmail\n",
      "kiran\n",
      "gmail\n",
      "kumar\n",
      "yahoo\n"
     ]
    }
   ],
   "source": [
    "a=[\"dinesh@gmail.com\",\"kiran@gmail.com\",\"kumar@yahoo.com\"]\n",
    "for i in a:\n",
    "    print(i.split('@')[0])\n",
    "    b=(i.split('@')[1])\n",
    "    #print(b)\n",
    "    c=(b.split('.')[0])\n",
    "    print(c)\n",
    "    \n",
    "    \n",
    "    \n",
    "    \n",
    "    "
   ]
  },
  {
   "cell_type": "code",
   "execution_count": 54,
   "id": "603c0b8f",
   "metadata": {},
   "outputs": [
    {
     "name": "stdout",
     "output_type": "stream",
     "text": [
      " {'mango': 2, 'apple': 2, 'orange': 1}\n",
      "['mango', 'apple', 'orange']\n",
      "['mango', 'apple']\n"
     ]
    }
   ],
   "source": [
    "b=[\"apple\",\"mango\",\"apple\",\"mango\",\"orange\"]\n",
    "d={e:b.count(e) for e in set(b)}\n",
    "print('',d)\n",
    "i=list(d)\n",
    "print(i)\n",
    "duplicates = list(set([x for x in b if b.count(x) > 1]))\n",
    "print(duplicates)"
   ]
  },
  {
   "cell_type": "code",
   "execution_count": 55,
   "id": "6291dc47",
   "metadata": {},
   "outputs": [
    {
     "name": "stdout",
     "output_type": "stream",
     "text": [
      "['mango', 'apple']\n"
     ]
    }
   ],
   "source": [
    "duplicates= list(set([x for x in b if b.count(x) >1]))\n",
    "print(duplicates)"
   ]
  },
  {
   "cell_type": "code",
   "execution_count": 78,
   "id": "751a7083",
   "metadata": {},
   "outputs": [
    {
     "name": "stdout",
     "output_type": "stream",
     "text": [
      "['dinesh', 'kiran', 'kumar']\n",
      "{'gmail', 'yahoo'}\n"
     ]
    }
   ],
   "source": [
    "a=[\"dinesh@gmail.com\",\"kiran@gmail.com\",\"kumar@yahoo.com\"]# diffrence in l2=set \n",
    "l1=[]\n",
    "l2=set()\n",
    "for i in a:\n",
    "    name =i.split('@')[0]\n",
    "    email=i.split('@')[1]\n",
    "    email=email.split('.')[0]\n",
    "    l1.append(name)\n",
    "    l2.add(email)\n",
    "print(l1)\n",
    "print(l2)"
   ]
  },
  {
   "cell_type": "code",
   "execution_count": 77,
   "id": "91d0272e",
   "metadata": {},
   "outputs": [
    {
     "name": "stdout",
     "output_type": "stream",
     "text": [
      "['dinesh', 'kiran', 'kumar']\n",
      "['gmail', 'gmail', 'yahoo']\n"
     ]
    }
   ],
   "source": [
    "a=[\"dinesh@gmail.com\",\"kiran@gmail.com\",\"kumar@yahoo.com\"]  #diffrence in l2= list\n",
    "l1=[]\n",
    "l2=[]\n",
    "for i in a:\n",
    "    name =i.split('@')[0]\n",
    "    email=i.split('@')[1]\n",
    "    email=email.split('.')[0]\n",
    "    l1.append(name)\n",
    "    l2.append(email)\n",
    "print(l1)\n",
    "print(l2)"
   ]
  },
  {
   "cell_type": "code",
   "execution_count": 92,
   "id": "145d3e9e",
   "metadata": {},
   "outputs": [
    {
     "name": "stdout",
     "output_type": "stream",
     "text": [
      "{'apple': 2, 'mango': 2, 'orange': 1}\n"
     ]
    }
   ],
   "source": [
    "b=(\"apple mango apple mango orange\")#try 1\n",
    "b_list= []\n",
    "for fruit in b.split():\n",
    "    b_list.append(fruit)\n",
    "    \n",
    "fruit_counts= {}\n",
    "for fruit in b_list:\n",
    "    if fruit in fruit_counts:\n",
    "        fruit_counts[fruit] +=1\n",
    "    else:\n",
    "        fruit_counts[fruit] =1\n",
    "print(fruit_counts)"
   ]
  },
  {
   "cell_type": "code",
   "execution_count": 98,
   "id": "2179defb",
   "metadata": {},
   "outputs": [
    {
     "name": "stdout",
     "output_type": "stream",
     "text": [
      "{'apple': 2, 'mango': 2, 'orange': 1}\n",
      "['mango', 'apple', 'orange']\n",
      "['apple', 'mango']\n"
     ]
    }
   ],
   "source": [
    "b=(\"apple mango apple mango orange\")#try 2\n",
    "b_list=[]\n",
    "for fruit in b.split():\n",
    "    b_list.append(fruit)\n",
    "fruit_counts={}\n",
    "for fruit in b_list:\n",
    "    if fruit in fruit_counts:\n",
    "        fruit_counts[fruit] +=1\n",
    "    else:\n",
    "        fruit_counts[fruit]=1\n",
    "print(fruit_counts)\n",
    "unique_fruits= list(set(b_list))\n",
    "print(unique_fruits)\n",
    "repeated_fruits=[fruit for fruit in fruit_counts if fruit_counts[fruit] >1]\n",
    "print(repeated_fruits)"
   ]
  },
  {
   "cell_type": "code",
   "execution_count": 100,
   "id": "270534cd",
   "metadata": {},
   "outputs": [
    {
     "name": "stdout",
     "output_type": "stream",
     "text": [
      "{'apple': 2, 'mango': 2, 'orange': 1}\n",
      "['mango', 'apple', 'orange']\n",
      "['apple', 'mango']\n"
     ]
    }
   ],
   "source": [
    "b=(\"apple mango apple mango orange\")#try 2\n",
    "b_list=[]\n",
    "for fruit in b.split():\n",
    "    b_list.append(fruit)\n",
    "fruit_counts={}\n",
    "for fruit in b_list:\n",
    "    if fruit in fruit_counts:\n",
    "        fruit_counts[fruit] +=1\n",
    "    else:\n",
    "        fruit_counts[fruit]=1\n",
    "print(fruit_counts)\n",
    "unique_fruits= list(set(b_list))\n",
    "print(unique_fruits)\n",
    "repeated_fruits=[fruit for fruit in fruit_counts if fruit_counts[fruit] >1]\n",
    "print(repeated_fruits)"
   ]
  },
  {
   "cell_type": "code",
   "execution_count": null,
   "id": "df21b075",
   "metadata": {},
   "outputs": [],
   "source": []
  },
  {
   "cell_type": "markdown",
   "id": "12752415",
   "metadata": {},
   "source": [
    "# palindrom   #fibanocci series homework"
   ]
  },
  {
   "cell_type": "code",
   "execution_count": 3,
   "id": "23e6c6cb",
   "metadata": {},
   "outputs": [],
   "source": [
    "def fibonacci(n):\n",
    "    sequence = [0, 1]\n",
    "    for i in range(2, n):\n",
    "        next_number = sequence[i-1] + sequence[i-2]\n",
    "        sequence.append(next_number)\n",
    "    return sequence"
   ]
  },
  {
   "cell_type": "code",
   "execution_count": null,
   "id": "fd720caf",
   "metadata": {},
   "outputs": [],
   "source": []
  }
 ],
 "metadata": {
  "kernelspec": {
   "display_name": "Python 3 (ipykernel)",
   "language": "python",
   "name": "python3"
  },
  "language_info": {
   "codemirror_mode": {
    "name": "ipython",
    "version": 3
   },
   "file_extension": ".py",
   "mimetype": "text/x-python",
   "name": "python",
   "nbconvert_exporter": "python",
   "pygments_lexer": "ipython3",
   "version": "3.9.13"
  }
 },
 "nbformat": 4,
 "nbformat_minor": 5
}
