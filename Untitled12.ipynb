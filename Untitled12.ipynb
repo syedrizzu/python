{
 "cells": [
  {
   "cell_type": "markdown",
   "id": "16a7a9ee",
   "metadata": {},
   "source": [
    "# ingeritance 03/26/2023"
   ]
  },
  {
   "cell_type": "code",
   "execution_count": 1,
   "id": "9431314a",
   "metadata": {},
   "outputs": [
    {
     "name": "stdout",
     "output_type": "stream",
     "text": [
      "9\n"
     ]
    }
   ],
   "source": [
    "class calci():\n",
    "    def add(self,a,b):\n",
    "        print(a+b)\n",
    "    def sub(self,a,b):\n",
    "        print(a-b)\n",
    "a=calci()\n",
    "a.add(5,4)"
   ]
  },
  {
   "cell_type": "code",
   "execution_count": 3,
   "id": "c0c5e001",
   "metadata": {},
   "outputs": [
    {
     "name": "stdout",
     "output_type": "stream",
     "text": [
      "11\n",
      "30\n"
     ]
    }
   ],
   "source": [
    "class calci1(calci):#single inheritance\n",
    "    def multi(self,a,b):\n",
    "        print(a*b)\n",
    "b=calci1()\n",
    "b.add(5,6)\n",
    "b.multi(5,6)"
   ]
  },
  {
   "cell_type": "code",
   "execution_count": 11,
   "id": "50a8798b",
   "metadata": {},
   "outputs": [
    {
     "name": "stdout",
     "output_type": "stream",
     "text": [
      "10\n",
      "-2\n",
      "24\n",
      "2.0\n"
     ]
    }
   ],
   "source": [
    "class calci():#multilevel inheritance\n",
    "    def add(self,a,b):\n",
    "        print(a+b)\n",
    "    def sub(self,a,b):\n",
    "        print(a-b)\n",
    "        \n",
    "class calci1(calci):\n",
    "    def multi(self,a,b):\n",
    "        print(a*b)\n",
    "        \n",
    "class calci2(calci1):\n",
    "    def divi(self,a,b):\n",
    "        print(a/b)\n",
    "a=calci2()\n",
    "a.add(4,6)\n",
    "a.sub(4,6)\n",
    "a.multi(4,6)\n",
    "a.divi(6,3)\n",
    "      \n"
   ]
  },
  {
   "cell_type": "code",
   "execution_count": 23,
   "id": "f40483be",
   "metadata": {},
   "outputs": [
    {
     "name": "stdout",
     "output_type": "stream",
     "text": [
      "10\n",
      "0\n",
      "25\n",
      "1.0\n"
     ]
    }
   ],
   "source": [
    "class calci(): #multiple inheritance #one more pending hierarchial inheritance\n",
    "    def add(self,a,b):\n",
    "        print(a+b)\n",
    "    def sub(self,a,b):\n",
    "        print(a-b)\n",
    "class calci1():\n",
    "    def multi(self,a,b):\n",
    "        print(a*b)\n",
    "class calci2(calci,calci1):\n",
    "    def divi(self,a,b):\n",
    "        print(a/b)\n",
    "a=calci2()\n",
    "a.add(5,5)\n",
    "a.sub(5,5)\n",
    "a.multi(5,5)\n",
    "a.divi(5,5)\n",
    "    "
   ]
  },
  {
   "cell_type": "code",
   "execution_count": null,
   "id": "1ad4e302",
   "metadata": {},
   "outputs": [],
   "source": [
    "class calci():\n",
    "    def add(self,a,b):\n",
    "        print(a+b)\n",
    "    def sub(self,a,b):\n",
    "        print(a-b)\n",
    "class calci1(calci):\n",
    "    def multi(self,a,b,):\n",
    "        print(a*b)\n",
    "class calci2(calci):\n",
    "    def divi(self,a,b):\n",
    "        print(a/b)\n",
    "        \n",
    "a=calci2\n",
    "a.add(5,5)"
   ]
  },
  {
   "cell_type": "code",
   "execution_count": 22,
   "id": "7b494d96",
   "metadata": {},
   "outputs": [
    {
     "name": "stdout",
     "output_type": "stream",
     "text": [
      "child\n",
      "grand child\n",
      "parent\n"
     ]
    }
   ],
   "source": [
    "class parent(): # to remmeber multipple contructor need to add super().__init__()\n",
    "    def __init__(self):\n",
    "        self.pname=\"parent\"\n",
    "        \n",
    "class child(parent):\n",
    "    def __init__(self):\n",
    "        super().__init__()\n",
    "        self.cname=\"child\"\n",
    "\n",
    "class grand_child(child):\n",
    "    def __init__(self):\n",
    "        super().__init__()\n",
    "        self.gcname=\"grand child\"\n",
    "a=grand_child()\n",
    "print(a.cname)\n",
    "print(a.gcname)\n",
    "print(a.pname)\n",
    "        "
   ]
  },
  {
   "cell_type": "code",
   "execution_count": 30,
   "id": "33f620f4",
   "metadata": {},
   "outputs": [
    {
     "name": "stdout",
     "output_type": "stream",
     "text": [
      "child\n",
      "grand child\n"
     ]
    }
   ],
   "source": [
    "class parent(): # to remember all class need to enter super(2nd class name,self).__init()\n",
    "    def __init__(self):\n",
    "        self.pname=\"parent\"\n",
    "class child():\n",
    "    def __init__(self):\n",
    "        self.cname=\"child\"\n",
    "        \n",
    "class grand_child(child,parent):\n",
    "    def __init__(self):\n",
    "        super().__init__()\n",
    "        super(child,self).__init__()\n",
    "        self.gcname=\"grand child\"\n",
    "a=grand_child()\n",
    "print(a.cname)\n",
    "print(a.gcname)"
   ]
  },
  {
   "cell_type": "code",
   "execution_count": null,
   "id": "480018e7",
   "metadata": {},
   "outputs": [],
   "source": [
    "class calci():\n",
    "    def add(self,a,b):\n",
    "        print(a+b)\n",
    "    def sub(self,a,b):\n",
    "        print(a-b)\n",
    "class calci1(calci):\n",
    "    def multi(self,a,b,):\n",
    "        print(a*b)\n",
    "class calci2(calci):\n",
    "    def divi(self,a,b):\n",
    "        print(a/b)\n",
    "        \n",
    "a=calci2\n",
    "a.add(5,5)"
   ]
  },
  {
   "cell_type": "code",
   "execution_count": null,
   "id": "97d5686c",
   "metadata": {},
   "outputs": [],
   "source": [
    "class calci():## hierarchial inheritance\n",
    "    def add(self,a,b):\n",
    "        print(a+b)\n",
    "    def sub(self,a,b):\n",
    "        print(a-b)\n",
    "class calci1(calci):\n",
    "    def multi(self,a,b,):\n",
    "        print(a*b)\n",
    "class calci2(calci):\n",
    "    def divi(self,a,b):\n",
    "        print(a/b)\n",
    "        \n",
    "a=calci2()\n",
    "a.add(5,5)"
   ]
  },
  {
   "cell_type": "code",
   "execution_count": null,
   "id": "fdd7368a",
   "metadata": {},
   "outputs": [],
   "source": []
  }
 ],
 "metadata": {
  "kernelspec": {
   "display_name": "Python 3 (ipykernel)",
   "language": "python",
   "name": "python3"
  },
  "language_info": {
   "codemirror_mode": {
    "name": "ipython",
    "version": 3
   },
   "file_extension": ".py",
   "mimetype": "text/x-python",
   "name": "python",
   "nbconvert_exporter": "python",
   "pygments_lexer": "ipython3",
   "version": "3.9.13"
  }
 },
 "nbformat": 4,
 "nbformat_minor": 5
}
