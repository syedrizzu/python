{
 "cells": [
  {
   "cell_type": "markdown",
   "id": "984cf9ea",
   "metadata": {},
   "source": [
    "# sample Try 2"
   ]
  },
  {
   "cell_type": "code",
   "execution_count": 1,
   "id": "774151de",
   "metadata": {},
   "outputs": [],
   "source": [
    "a=\"syedrizwan\"\n",
    "b=\"mobeena begum\"\n",
    "c=\"danish rayyan\"\n",
    "d=\"ayzal maryam\""
   ]
  },
  {
   "cell_type": "code",
   "execution_count": 2,
   "id": "4aa0da4b",
   "metadata": {},
   "outputs": [
    {
     "name": "stdout",
     "output_type": "stream",
     "text": [
      "syedrizwan mobeena begum danish rayyan ayzal maryam\n"
     ]
    }
   ],
   "source": [
    "print(a,b,c,d)"
   ]
  },
  {
   "cell_type": "code",
   "execution_count": 6,
   "id": "cdfb5041",
   "metadata": {},
   "outputs": [
    {
     "name": "stdout",
     "output_type": "stream",
     "text": [
      "i\n",
      "n\n",
      "h\n",
      "m\n"
     ]
    }
   ],
   "source": [
    "print(a[5])\n",
    "print(b[5])\n",
    "print(c[5])\n",
    "print(d[6])"
   ]
  },
  {
   "cell_type": "code",
   "execution_count": 8,
   "id": "77bcc574",
   "metadata": {},
   "outputs": [
    {
     "name": "stdout",
     "output_type": "stream",
     "text": [
      "syedrizwan\n",
      "mobeena begum\n",
      "danish rayyan\n",
      "ayzal maryam\n"
     ]
    }
   ],
   "source": [
    "print(a[:])\n",
    "print(b[:])\n",
    "print(c[:])\n",
    "print(d[:])"
   ]
  },
  {
   "cell_type": "code",
   "execution_count": 10,
   "id": "2365224a",
   "metadata": {},
   "outputs": [
    {
     "name": "stdout",
     "output_type": "stream",
     "text": [
      "n\n",
      "m\n",
      "n\n",
      "m\n"
     ]
    }
   ],
   "source": [
    "print(a[-1])\n",
    "print(b[-1])\n",
    "print(c[-1])\n",
    "print(d[-1])"
   ]
  },
  {
   "cell_type": "code",
   "execution_count": 12,
   "id": "2beeea9e",
   "metadata": {},
   "outputs": [
    {
     "name": "stdout",
     "output_type": "stream",
     "text": [
      "8\n",
      "6\n",
      "1\n",
      "0\n"
     ]
    }
   ],
   "source": [
    "print(a.index(\"a\"))\n",
    "print(b.index(\"a\"))\n",
    "print(c.index(\"a\"))\n",
    "print(d.index(\"a\"))\n"
   ]
  },
  {
   "cell_type": "code",
   "execution_count": 14,
   "id": "ec46306c",
   "metadata": {},
   "outputs": [
    {
     "name": "stdout",
     "output_type": "stream",
     "text": [
      "8\n",
      "6\n",
      "1\n",
      "0\n"
     ]
    }
   ],
   "source": [
    "print(a.find(\"a\"))\n",
    "print(b.find(\"a\"))\n",
    "print(c.find(\"a\"))\n",
    "print(d.find(\"a\"))"
   ]
  },
  {
   "cell_type": "code",
   "execution_count": 17,
   "id": "34d3d30b",
   "metadata": {},
   "outputs": [
    {
     "name": "stdout",
     "output_type": "stream",
     "text": [
      "8\n",
      "6\n",
      "11\n",
      "10\n"
     ]
    }
   ],
   "source": [
    "print(a.rindex(\"a\"))\n",
    "print(b.rindex(\"a\"))\n",
    "print(c.rindex(\"a\"))\n",
    "print(d.rindex(\"a\"))"
   ]
  },
  {
   "cell_type": "code",
   "execution_count": 19,
   "id": "7698617c",
   "metadata": {},
   "outputs": [
    {
     "name": "stdout",
     "output_type": "stream",
     "text": [
      "8\n",
      "6\n",
      "11\n",
      "10\n"
     ]
    }
   ],
   "source": [
    "print(a.rfind(\"a\"))\n",
    "print(b.rfind(\"a\"))\n",
    "print(c.rfind(\"a\"))\n",
    "print(d.rfind(\"a\"))"
   ]
  },
  {
   "cell_type": "code",
   "execution_count": 23,
   "id": "013a6472",
   "metadata": {},
   "outputs": [
    {
     "name": "stdout",
     "output_type": "stream",
     "text": [
      "si\n",
      "mng\n",
      "dhy\n",
      "a a\n"
     ]
    }
   ],
   "source": [
    "print(a[::5])\n",
    "print(b[::5])\n",
    "print(c[::5])\n",
    "print(d[::5])"
   ]
  },
  {
   "cell_type": "code",
   "execution_count": 25,
   "id": "4a6d40ad",
   "metadata": {},
   "outputs": [
    {
     "name": "stdout",
     "output_type": "stream",
     "text": [
      "dr\n",
      "ee\n",
      "is\n",
      "al\n"
     ]
    }
   ],
   "source": [
    "print(a[3:5])\n",
    "print(b[3:5])\n",
    "print(c[3:5])\n",
    "print(d[3:5])"
   ]
  },
  {
   "cell_type": "code",
   "execution_count": 28,
   "id": "878df295",
   "metadata": {},
   "outputs": [
    {
     "name": "stdout",
     "output_type": "stream",
     "text": [
      "syedrizwAn\n",
      "mobeenA begum\n",
      "dAnish rAyyAn\n",
      "AyzAl mAryAm\n"
     ]
    }
   ],
   "source": [
    "print(a.replace(\"a\",\"A\"))\n",
    "print(b.replace(\"a\",\"A\"))\n",
    "print(c.replace(\"a\",\"A\"))\n",
    "print(d.replace(\"a\",\"A\"))"
   ]
  },
  {
   "cell_type": "code",
   "execution_count": 33,
   "id": "9dba0385",
   "metadata": {},
   "outputs": [
    {
     "name": "stdout",
     "output_type": "stream",
     "text": [
      "Syedrizwan\n",
      "Mobeena Begum\n",
      "Danish Rayyan\n",
      "Ayzal Maryam\n"
     ]
    }
   ],
   "source": [
    "print(a.title())\n",
    "print(b.title())\n",
    "print(c.title())\n",
    "print(d.title())"
   ]
  },
  {
   "cell_type": "code",
   "execution_count": 34,
   "id": "ed34bf7f",
   "metadata": {},
   "outputs": [
    {
     "name": "stdout",
     "output_type": "stream",
     "text": [
      "Syed\n",
      "rizwan\n"
     ]
    }
   ],
   "source": [
    "print(\"Syed\\nrizwan\")"
   ]
  },
  {
   "cell_type": "code",
   "execution_count": 36,
   "id": "0517e78a",
   "metadata": {},
   "outputs": [
    {
     "name": "stdout",
     "output_type": "stream",
     "text": [
      "syed \brizwan\n"
     ]
    }
   ],
   "source": [
    "print(\"syed \\brizwan\")"
   ]
  },
  {
   "cell_type": "code",
   "execution_count": 39,
   "id": "cb671fa9",
   "metadata": {},
   "outputs": [
    {
     "name": "stdout",
     "output_type": "stream",
     "text": [
      "syed\trizwan\n"
     ]
    }
   ],
   "source": [
    "print(\"syed\\trizwan\")"
   ]
  },
  {
   "cell_type": "code",
   "execution_count": 41,
   "id": "9f282b62",
   "metadata": {},
   "outputs": [
    {
     "name": "stdout",
     "output_type": "stream",
     "text": [
      "Syed Rizwan\n"
     ]
    }
   ],
   "source": [
    "print(\"Syed Rizwan\")"
   ]
  },
  {
   "cell_type": "code",
   "execution_count": 42,
   "id": "378bbc86",
   "metadata": {},
   "outputs": [
    {
     "name": "stdout",
     "output_type": "stream",
     "text": [
      "syedrizwan mobeena begum danish rayyan ayzal maryam\n"
     ]
    }
   ],
   "source": [
    "print(a,b,c,d)"
   ]
  },
  {
   "cell_type": "code",
   "execution_count": 43,
   "id": "2a46573f",
   "metadata": {},
   "outputs": [
    {
     "name": "stdout",
     "output_type": "stream",
     "text": [
      "Syedrizwan\n"
     ]
    }
   ],
   "source": [
    "print(a.title())"
   ]
  },
  {
   "cell_type": "code",
   "execution_count": 44,
   "id": "3c9b3c7f",
   "metadata": {},
   "outputs": [
    {
     "ename": "AttributeError",
     "evalue": "'str' object has no attribute 'union'",
     "output_type": "error",
     "traceback": [
      "\u001b[1;31m---------------------------------------------------------------------------\u001b[0m",
      "\u001b[1;31mAttributeError\u001b[0m                            Traceback (most recent call last)",
      "\u001b[1;32m~\\AppData\\Local\\Temp\\ipykernel_19156\\4085881429.py\u001b[0m in \u001b[0;36m<module>\u001b[1;34m\u001b[0m\n\u001b[1;32m----> 1\u001b[1;33m \u001b[0mprint\u001b[0m\u001b[1;33m(\u001b[0m\u001b[0ma\u001b[0m\u001b[1;33m.\u001b[0m\u001b[0munion\u001b[0m\u001b[1;33m(\u001b[0m\u001b[0mb\u001b[0m\u001b[1;33m)\u001b[0m\u001b[1;33m)\u001b[0m\u001b[1;33m\u001b[0m\u001b[1;33m\u001b[0m\u001b[0m\n\u001b[0m",
      "\u001b[1;31mAttributeError\u001b[0m: 'str' object has no attribute 'union'"
     ]
    }
   ],
   "source": [
    "print(a.union(b))"
   ]
  },
  {
   "cell_type": "code",
   "execution_count": 46,
   "id": "2b0bf3a8",
   "metadata": {},
   "outputs": [
    {
     "name": "stdout",
     "output_type": "stream",
     "text": [
      "{'y', 'i', 'd', 'w', 's', 'e', 'r', 'n', 'a', 'z'}\n",
      "{'m', 'b', ' ', 'u', 'o', 'e', 'n', 'a', 'g'}\n",
      "{'i', 'y', 'd', 'h', 'r', ' ', 's', 'n', 'a'}\n",
      "{'l', 'y', 'm', ' ', 'r', 'a', 'z'}\n"
     ]
    }
   ],
   "source": [
    "print(set(list(a)))\n",
    "print(set(list(b)))\n",
    "print(set(list(c)))\n",
    "print(set(list(d)))"
   ]
  },
  {
   "cell_type": "code",
   "execution_count": 47,
   "id": "d427c4b3",
   "metadata": {},
   "outputs": [
    {
     "ename": "AttributeError",
     "evalue": "'str' object has no attribute 'union'",
     "output_type": "error",
     "traceback": [
      "\u001b[1;31m---------------------------------------------------------------------------\u001b[0m",
      "\u001b[1;31mAttributeError\u001b[0m                            Traceback (most recent call last)",
      "\u001b[1;32m~\\AppData\\Local\\Temp\\ipykernel_19156\\4085881429.py\u001b[0m in \u001b[0;36m<module>\u001b[1;34m\u001b[0m\n\u001b[1;32m----> 1\u001b[1;33m \u001b[0mprint\u001b[0m\u001b[1;33m(\u001b[0m\u001b[0ma\u001b[0m\u001b[1;33m.\u001b[0m\u001b[0munion\u001b[0m\u001b[1;33m(\u001b[0m\u001b[0mb\u001b[0m\u001b[1;33m)\u001b[0m\u001b[1;33m)\u001b[0m\u001b[1;33m\u001b[0m\u001b[1;33m\u001b[0m\u001b[0m\n\u001b[0m",
      "\u001b[1;31mAttributeError\u001b[0m: 'str' object has no attribute 'union'"
     ]
    }
   ],
   "source": [
    "print(a.union(b))"
   ]
  },
  {
   "cell_type": "code",
   "execution_count": 48,
   "id": "a25e7bcf",
   "metadata": {},
   "outputs": [
    {
     "name": "stdout",
     "output_type": "stream",
     "text": [
      "syedrizwan\n"
     ]
    }
   ],
   "source": [
    "print(a)"
   ]
  },
  {
   "cell_type": "code",
   "execution_count": 49,
   "id": "a0b5f812",
   "metadata": {},
   "outputs": [
    {
     "name": "stdout",
     "output_type": "stream",
     "text": [
      "<class 'str'>\n"
     ]
    }
   ],
   "source": [
    "print(type(a))"
   ]
  },
  {
   "cell_type": "code",
   "execution_count": 50,
   "id": "b132cf7a",
   "metadata": {},
   "outputs": [
    {
     "name": "stdout",
     "output_type": "stream",
     "text": [
      "{'y', 'i', 'd', 'w', 's', 'e', 'r', 'n', 'a', 'z'}\n"
     ]
    }
   ],
   "source": [
    "print(set(str(a)))"
   ]
  },
  {
   "cell_type": "code",
   "execution_count": 51,
   "id": "71bd7053",
   "metadata": {},
   "outputs": [
    {
     "name": "stdout",
     "output_type": "stream",
     "text": [
      "syedrizwan\n"
     ]
    }
   ],
   "source": [
    "print(a)"
   ]
  },
  {
   "cell_type": "code",
   "execution_count": 52,
   "id": "43a8d561",
   "metadata": {},
   "outputs": [
    {
     "name": "stdout",
     "output_type": "stream",
     "text": [
      "{'y', 'i', 'd', 'w', 's', 'e', 'r', 'n', 'a', 'z'}\n"
     ]
    }
   ],
   "source": [
    "print(str(set(a)))"
   ]
  },
  {
   "cell_type": "code",
   "execution_count": 53,
   "id": "af6aec07",
   "metadata": {},
   "outputs": [
    {
     "name": "stdout",
     "output_type": "stream",
     "text": [
      "syedrizwan\n"
     ]
    }
   ],
   "source": [
    "print(a)"
   ]
  },
  {
   "cell_type": "code",
   "execution_count": 55,
   "id": "2aaf2c74",
   "metadata": {},
   "outputs": [],
   "source": [
    "a={\"syed rizwan\"}"
   ]
  },
  {
   "cell_type": "code",
   "execution_count": 56,
   "id": "c5c8ecc1",
   "metadata": {},
   "outputs": [
    {
     "name": "stdout",
     "output_type": "stream",
     "text": [
      "<class 'set'>\n"
     ]
    }
   ],
   "source": [
    "print(type(a))"
   ]
  },
  {
   "cell_type": "code",
   "execution_count": 57,
   "id": "69b4e6ef",
   "metadata": {},
   "outputs": [
    {
     "name": "stdout",
     "output_type": "stream",
     "text": [
      "['syed rizwan']\n"
     ]
    }
   ],
   "source": [
    "print(list(set(a)))"
   ]
  },
  {
   "cell_type": "code",
   "execution_count": 59,
   "id": "79106bd4",
   "metadata": {},
   "outputs": [
    {
     "name": "stdout",
     "output_type": "stream",
     "text": [
      "{'syed rizwan'}\n"
     ]
    }
   ],
   "source": [
    "print(set(list(a)))"
   ]
  },
  {
   "cell_type": "code",
   "execution_count": 60,
   "id": "5d9e66ba",
   "metadata": {},
   "outputs": [
    {
     "name": "stdout",
     "output_type": "stream",
     "text": [
      "{'syed rizwan', 'm', 'b', ' ', 'u', 'o', 'e', 'n', 'a', 'g'}\n"
     ]
    }
   ],
   "source": [
    "print(a.union(b))"
   ]
  },
  {
   "cell_type": "code",
   "execution_count": 61,
   "id": "d1f567bd",
   "metadata": {},
   "outputs": [
    {
     "name": "stdout",
     "output_type": "stream",
     "text": [
      "{'syed rizwan', 'i', 'y', 'd', 'h', 'r', ' ', 's', 'n', 'a'}\n"
     ]
    }
   ],
   "source": [
    "print(a.union(c))"
   ]
  },
  {
   "cell_type": "code",
   "execution_count": 62,
   "id": "18cb0c2a",
   "metadata": {},
   "outputs": [
    {
     "name": "stdout",
     "output_type": "stream",
     "text": [
      "{'syed rizwan'} mobeena begum\n"
     ]
    }
   ],
   "source": [
    "print(a,b)"
   ]
  },
  {
   "cell_type": "code",
   "execution_count": 65,
   "id": "9911da51",
   "metadata": {},
   "outputs": [
    {
     "name": "stdout",
     "output_type": "stream",
     "text": [
      "{'syed rizwan'}\n"
     ]
    }
   ],
   "source": [
    "print(a.difference(b))"
   ]
  },
  {
   "cell_type": "code",
   "execution_count": 69,
   "id": "cb51bd35",
   "metadata": {},
   "outputs": [
    {
     "name": "stdout",
     "output_type": "stream",
     "text": [
      "False\n"
     ]
    }
   ],
   "source": [
    "print(a.issuperset(b))"
   ]
  },
  {
   "cell_type": "code",
   "execution_count": null,
   "id": "9031b71c",
   "metadata": {},
   "outputs": [],
   "source": []
  }
 ],
 "metadata": {
  "kernelspec": {
   "display_name": "Python 3 (ipykernel)",
   "language": "python",
   "name": "python3"
  },
  "language_info": {
   "codemirror_mode": {
    "name": "ipython",
    "version": 3
   },
   "file_extension": ".py",
   "mimetype": "text/x-python",
   "name": "python",
   "nbconvert_exporter": "python",
   "pygments_lexer": "ipython3",
   "version": "3.9.13"
  }
 },
 "nbformat": 4,
 "nbformat_minor": 5
}
