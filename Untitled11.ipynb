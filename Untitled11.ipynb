{
 "cells": [
  {
   "cell_type": "code",
   "execution_count": 6,
   "id": "a3db9a95",
   "metadata": {},
   "outputs": [
    {
     "name": "stdout",
     "output_type": "stream",
     "text": [
      "8000\n"
     ]
    }
   ],
   "source": [
    "class gold():\n",
    "    def multi(self,gold_rate,per_gram):\n",
    "        print(gold_rate*per_gram)\n",
    "c=gold()\n",
    "c.multi(1000,8)"
   ]
  },
  {
   "cell_type": "code",
   "execution_count": 27,
   "id": "c9e6c528",
   "metadata": {},
   "outputs": [
    {
     "name": "stdout",
     "output_type": "stream",
     "text": [
      "5000\n"
     ]
    }
   ],
   "source": [
    "class gold():\n",
    "        def __init__(self,gram):\n",
    "            self.gram=gram\n",
    "        def gold_rate(self,total_gram):\n",
    "            print(total_gram * self.gram)\n",
    "a=gold(1000)\n",
    "b=a.gold_rate(5)"
   ]
  },
  {
   "cell_type": "code",
   "execution_count": 30,
   "id": "e1e96e8e",
   "metadata": {},
   "outputs": [
    {
     "name": "stdout",
     "output_type": "stream",
     "text": [
      "8000\n"
     ]
    }
   ],
   "source": [
    "class gold():\n",
    "    def __init__(self,gram):\n",
    "        self.gram=gram\n",
    "    def gold_rate(self,total_gram):\n",
    "        print(total_gram*self.gram)\n",
    "a=gold(1000)\n",
    "b=a.gold_rate(8)"
   ]
  },
  {
   "cell_type": "code",
   "execution_count": 31,
   "id": "f7938c6f",
   "metadata": {},
   "outputs": [],
   "source": [
    "#fruits count using constructor"
   ]
  },
  {
   "cell_type": "code",
   "execution_count": 43,
   "id": "df586f3c",
   "metadata": {},
   "outputs": [
    {
     "name": "stdout",
     "output_type": "stream",
     "text": [
      "{'apple': 2, 'mango': 2, 'orange': 1}\n",
      "{'apple', 'mango'}\n"
     ]
    }
   ],
   "source": [
    "class fruitcount():\n",
    "    def __init__(self,fruit):\n",
    "        self.fruit=fruit\n",
    "        self.count={}\n",
    "        self.duplicate=set()\n",
    "        for fruits in fruit:\n",
    "            if fruits in self.count:\n",
    "                self.count[fruits]+=1\n",
    "                self.duplicate.add(fruits)\n",
    "            else:\n",
    "                self.count[fruits]=1\n",
    "    def get_count(self):\n",
    "        return self.count\n",
    "    def get_duplicate(self):\n",
    "        return self.duplicate\n",
    "fruits=[\"apple\",\"mango\",\"apple\",\"mango\",\"orange\"]\n",
    "counter=fruitcount(fruits)\n",
    "print(counter.get_count())\n",
    "print(counter.get_duplicate())"
   ]
  },
  {
   "cell_type": "code",
   "execution_count": 2,
   "id": "7a9176f7",
   "metadata": {},
   "outputs": [
    {
     "name": "stdout",
     "output_type": "stream",
     "text": [
      "{'apple': 2, 'mango': 2, 'orange': 1}\n",
      "{'apple', 'mango'}\n"
     ]
    }
   ],
   "source": [
    "class fruitcount():\n",
    "    def __init__(self,fruit):\n",
    "        self.fruit=fruit\n",
    "        self.count={}\n",
    "        self.duplicate=set()\n",
    "        for fruits in fruit:\n",
    "            if fruits in self.count:\n",
    "                self.count[fruits]+=1\n",
    "                self.duplicate.add(fruits)\n",
    "            else:\n",
    "                self.count[fruits]=1\n",
    "    def get_count(self):\n",
    "        return self.count\n",
    "    def get_duplicate(self):\n",
    "        return self.duplicate\n",
    "fruits=[\"apple\",\"mango\",\"apple\",\"mango\",\"orange\"]\n",
    "counter=fruitcount(fruits)\n",
    "print(counter.get_count())\n",
    "print(counter.get_duplicate())\n",
    "        "
   ]
  },
  {
   "cell_type": "code",
   "execution_count": null,
   "id": "ccea3842",
   "metadata": {},
   "outputs": [],
   "source": []
  }
 ],
 "metadata": {
  "kernelspec": {
   "display_name": "Python 3 (ipykernel)",
   "language": "python",
   "name": "python3"
  },
  "language_info": {
   "codemirror_mode": {
    "name": "ipython",
    "version": 3
   },
   "file_extension": ".py",
   "mimetype": "text/x-python",
   "name": "python",
   "nbconvert_exporter": "python",
   "pygments_lexer": "ipython3",
   "version": "3.9.13"
  }
 },
 "nbformat": 4,
 "nbformat_minor": 5
}
