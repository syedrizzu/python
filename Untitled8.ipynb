{
 "cells": [
  {
   "cell_type": "markdown",
   "id": "beb9d09d",
   "metadata": {},
   "source": [
    "# palindrom   #fibanocci series homework"
   ]
  },
  {
   "cell_type": "code",
   "execution_count": 5,
   "id": "4aca4321",
   "metadata": {},
   "outputs": [
    {
     "name": "stdout",
     "output_type": "stream",
     "text": [
      "[0, 1, 1, 2, 3, 5, 8, 13, 21, 34]\n"
     ]
    }
   ],
   "source": [
    "def fibonacci(n):\n",
    "    sequence = [0, 1]\n",
    "    for i in range(2, n):\n",
    "        next_number = sequence[i-1] + sequence[i-2]\n",
    "        sequence.append(next_number)\n",
    "    return sequence\n",
    "print(fibonacci(10))"
   ]
  },
  {
   "cell_type": "code",
   "execution_count": 12,
   "id": "327b3d09",
   "metadata": {},
   "outputs": [
    {
     "name": "stdout",
     "output_type": "stream",
     "text": [
      "[0, 3, 3, 6, 9, 15, 24, 39, 63, 102]\n"
     ]
    }
   ],
   "source": [
    "def fibonacci(n):\n",
    "    sequence = [0,3]\n",
    "    for i in range(2,n):\n",
    "        next_number = sequence[i-1] + sequence[i-2]\n",
    "        sequence.append(next_number)\n",
    "    return sequence\n",
    "print(fibonacci(10))"
   ]
  },
  {
   "cell_type": "markdown",
   "id": "e5bcf68b",
   "metadata": {},
   "source": [
    "# function"
   ]
  },
  {
   "cell_type": "code",
   "execution_count": 13,
   "id": "1386d966",
   "metadata": {},
   "outputs": [
    {
     "name": "stdout",
     "output_type": "stream",
     "text": [
      "11\n"
     ]
    }
   ],
   "source": [
    "a=5\n",
    "b=6\n",
    "print(a+b)\n",
    "# instead of this we can use function "
   ]
  },
  {
   "cell_type": "code",
   "execution_count": 20,
   "id": "78a903b5",
   "metadata": {},
   "outputs": [],
   "source": [
    "def test(a,b):\n",
    "    print(a+b)\n",
    "    print(a-b)"
   ]
  },
  {
   "cell_type": "code",
   "execution_count": 21,
   "id": "3e24abfb",
   "metadata": {},
   "outputs": [
    {
     "name": "stdout",
     "output_type": "stream",
     "text": [
      "12\n",
      "-4\n"
     ]
    }
   ],
   "source": [
    "test(4,8)"
   ]
  },
  {
   "cell_type": "code",
   "execution_count": 22,
   "id": "f7facbe2",
   "metadata": {},
   "outputs": [
    {
     "name": "stdout",
     "output_type": "stream",
     "text": [
      "8\n",
      "2\n"
     ]
    }
   ],
   "source": [
    "test(5,3)"
   ]
  },
  {
   "cell_type": "code",
   "execution_count": 19,
   "id": "d433549f",
   "metadata": {
    "scrolled": true
   },
   "outputs": [
    {
     "ename": "TypeError",
     "evalue": "test() takes 2 positional arguments but 3 were given",
     "output_type": "error",
     "traceback": [
      "\u001b[1;31m---------------------------------------------------------------------------\u001b[0m",
      "\u001b[1;31mTypeError\u001b[0m                                 Traceback (most recent call last)",
      "\u001b[1;32m~\\AppData\\Local\\Temp\\ipykernel_10700\\1601143218.py\u001b[0m in \u001b[0;36m<module>\u001b[1;34m\u001b[0m\n\u001b[1;32m----> 1\u001b[1;33m \u001b[0mtest\u001b[0m\u001b[1;33m(\u001b[0m\u001b[1;36m5\u001b[0m\u001b[1;33m,\u001b[0m\u001b[1;36m6\u001b[0m\u001b[1;33m,\u001b[0m\u001b[1;36m6\u001b[0m\u001b[1;33m)\u001b[0m\u001b[1;33m\u001b[0m\u001b[1;33m\u001b[0m\u001b[0m\n\u001b[0m",
      "\u001b[1;31mTypeError\u001b[0m: test() takes 2 positional arguments but 3 were given"
     ]
    }
   ],
   "source": [
    "test(5,6,6)"
   ]
  },
  {
   "cell_type": "code",
   "execution_count": 23,
   "id": "e3560654",
   "metadata": {},
   "outputs": [],
   "source": [
    "def test(a,b):\n",
    "    print('before return')\n",
    "    return(a+b)# return will throw out func to use for new code\n",
    "    print(\"after return\")# code will not work after return "
   ]
  },
  {
   "cell_type": "code",
   "execution_count": 24,
   "id": "17ce659b",
   "metadata": {},
   "outputs": [
    {
     "name": "stdout",
     "output_type": "stream",
     "text": [
      "before return\n"
     ]
    }
   ],
   "source": [
    "result =test(5,4)"
   ]
  },
  {
   "cell_type": "code",
   "execution_count": 25,
   "id": "0dbb0563",
   "metadata": {},
   "outputs": [
    {
     "name": "stdout",
     "output_type": "stream",
     "text": [
      "9\n"
     ]
    }
   ],
   "source": [
    "print(result)"
   ]
  },
  {
   "cell_type": "code",
   "execution_count": 26,
   "id": "c3b199c1",
   "metadata": {},
   "outputs": [
    {
     "name": "stdout",
     "output_type": "stream",
     "text": [
      "before return\n"
     ]
    }
   ],
   "source": [
    "result1 = test(result,10)"
   ]
  },
  {
   "cell_type": "code",
   "execution_count": 27,
   "id": "ac3500b3",
   "metadata": {},
   "outputs": [
    {
     "name": "stdout",
     "output_type": "stream",
     "text": [
      "19\n"
     ]
    }
   ],
   "source": [
    "print(result1)"
   ]
  },
  {
   "cell_type": "code",
   "execution_count": 33,
   "id": "a0d4b073",
   "metadata": {},
   "outputs": [],
   "source": [
    "# positional argument\n"
   ]
  },
  {
   "cell_type": "code",
   "execution_count": 31,
   "id": "333c517e",
   "metadata": {},
   "outputs": [],
   "source": [
    "def test(a,b,c):\n",
    "    print(\"value of a is \",a)\n",
    "    print(\"value of b is \",b)\n",
    "    print(\"value of c is \",c)"
   ]
  },
  {
   "cell_type": "code",
   "execution_count": 32,
   "id": "2ef316e8",
   "metadata": {
    "scrolled": true
   },
   "outputs": [
    {
     "name": "stdout",
     "output_type": "stream",
     "text": [
      "value of a is  10\n",
      "value of b is  20\n",
      "value of c is  30\n"
     ]
    }
   ],
   "source": [
    "test(10,20,30)"
   ]
  },
  {
   "cell_type": "code",
   "execution_count": 34,
   "id": "4366e68c",
   "metadata": {},
   "outputs": [],
   "source": [
    "# keyword argument"
   ]
  },
  {
   "cell_type": "code",
   "execution_count": 35,
   "id": "b083f35e",
   "metadata": {},
   "outputs": [
    {
     "name": "stdout",
     "output_type": "stream",
     "text": [
      "value of a is  30\n",
      "value of b is  10\n",
      "value of c is  20\n"
     ]
    }
   ],
   "source": [
    "test(a=30, b=10, c=20)"
   ]
  },
  {
   "cell_type": "code",
   "execution_count": 40,
   "id": "50c5cc78",
   "metadata": {},
   "outputs": [
    {
     "ename": "SyntaxError",
     "evalue": "invalid syntax (3879482964.py, line 1)",
     "output_type": "error",
     "traceback": [
      "\u001b[1;36m  File \u001b[1;32m\"C:\\Users\\User\\AppData\\Local\\Temp\\ipykernel_10700\\3879482964.py\"\u001b[1;36m, line \u001b[1;32m1\u001b[0m\n\u001b[1;33m    def get_data(d_type, rng)\u001b[0m\n\u001b[1;37m                             ^\u001b[0m\n\u001b[1;31mSyntaxError\u001b[0m\u001b[1;31m:\u001b[0m invalid syntax\n"
     ]
    }
   ],
   "source": [
    "def get_data(d_type, rng)\n"
   ]
  },
  {
   "cell_type": "code",
   "execution_count": 41,
   "id": "c6298307",
   "metadata": {},
   "outputs": [
    {
     "name": "stdout",
     "output_type": "stream",
     "text": [
      "value of a is  10\n",
      "value of b is  20\n",
      "value of c is  30\n"
     ]
    }
   ],
   "source": [
    "#positional argument follows keyword argument for ex\n",
    "test(10,b= 20,c=30)"
   ]
  },
  {
   "cell_type": "code",
   "execution_count": 39,
   "id": "0d822f86",
   "metadata": {
    "scrolled": true
   },
   "outputs": [
    {
     "ename": "SyntaxError",
     "evalue": "positional argument follows keyword argument (1849171348.py, line 1)",
     "output_type": "error",
     "traceback": [
      "\u001b[1;36m  File \u001b[1;32m\"C:\\Users\\User\\AppData\\Local\\Temp\\ipykernel_10700\\1849171348.py\"\u001b[1;36m, line \u001b[1;32m1\u001b[0m\n\u001b[1;33m    test(a=10,20,c=30)# incorrect argument\u001b[0m\n\u001b[1;37m                     ^\u001b[0m\n\u001b[1;31mSyntaxError\u001b[0m\u001b[1;31m:\u001b[0m positional argument follows keyword argument\n"
     ]
    }
   ],
   "source": [
    "test(a=10,20,c=30)# incorrect argument"
   ]
  },
  {
   "cell_type": "code",
   "execution_count": 84,
   "id": "21d2b2fb",
   "metadata": {},
   "outputs": [],
   "source": [
    "def get_data(d_type, rng):\n",
    "    \n",
    "    if d_type==\"odd\":\n",
    "        reminder== 0\n",
    "    elif d_type== \"even\":\n",
    "        reminder== 1\n",
    "    l=[]\n",
    "    for i in range(rng):\n",
    "        if i%2==\"odd\":\n",
    "            l.append(i)\n",
    "    return l\n",
    "\n",
    "    \n"
   ]
  },
  {
   "cell_type": "code",
   "execution_count": 82,
   "id": "f9f13836",
   "metadata": {},
   "outputs": [
    {
     "ename": "NameError",
     "evalue": "name 'num' is not defined",
     "output_type": "error",
     "traceback": [
      "\u001b[1;31m---------------------------------------------------------------------------\u001b[0m",
      "\u001b[1;31mNameError\u001b[0m                                 Traceback (most recent call last)",
      "\u001b[1;32m~\\AppData\\Local\\Temp\\ipykernel_10700\\827230493.py\u001b[0m in \u001b[0;36m<module>\u001b[1;34m\u001b[0m\n\u001b[1;32m----> 1\u001b[1;33m \u001b[0mget_data\u001b[0m\u001b[1;33m(\u001b[0m\u001b[1;34m\"d_type\"\u001b[0m\u001b[1;33m,\u001b[0m\u001b[1;36m30\u001b[0m\u001b[1;33m)\u001b[0m\u001b[1;33m\u001b[0m\u001b[1;33m\u001b[0m\u001b[0m\n\u001b[0m",
      "\u001b[1;32m~\\AppData\\Local\\Temp\\ipykernel_10700\\2075429604.py\u001b[0m in \u001b[0;36mget_data\u001b[1;34m(d_type, rng)\u001b[0m\n\u001b[0;32m      7\u001b[0m     \u001b[0ml\u001b[0m\u001b[1;33m=\u001b[0m\u001b[1;33m[\u001b[0m\u001b[1;33m]\u001b[0m\u001b[1;33m\u001b[0m\u001b[1;33m\u001b[0m\u001b[0m\n\u001b[0;32m      8\u001b[0m     \u001b[1;32mfor\u001b[0m \u001b[0mi\u001b[0m \u001b[1;32min\u001b[0m \u001b[0mrange\u001b[0m\u001b[1;33m(\u001b[0m\u001b[0mrng\u001b[0m\u001b[1;33m)\u001b[0m\u001b[1;33m:\u001b[0m\u001b[1;33m\u001b[0m\u001b[1;33m\u001b[0m\u001b[0m\n\u001b[1;32m----> 9\u001b[1;33m         \u001b[1;32mif\u001b[0m \u001b[0mnum\u001b[0m \u001b[1;33m%\u001b[0m\u001b[1;36m2\u001b[0m\u001b[1;33m!=\u001b[0m\u001b[1;34m\"odd\"\u001b[0m\u001b[1;33m:\u001b[0m\u001b[1;33m\u001b[0m\u001b[1;33m\u001b[0m\u001b[0m\n\u001b[0m\u001b[0;32m     10\u001b[0m             \u001b[0ml\u001b[0m\u001b[1;33m.\u001b[0m\u001b[0mappend\u001b[0m\u001b[1;33m(\u001b[0m\u001b[0mi\u001b[0m\u001b[1;33m)\u001b[0m\u001b[1;33m\u001b[0m\u001b[1;33m\u001b[0m\u001b[0m\n\u001b[0;32m     11\u001b[0m     \u001b[1;32mreturn\u001b[0m \u001b[0ml\u001b[0m\u001b[1;33m\u001b[0m\u001b[1;33m\u001b[0m\u001b[0m\n",
      "\u001b[1;31mNameError\u001b[0m: name 'num' is not defined"
     ]
    }
   ],
   "source": [
    "get_data(\"d_type\",30)"
   ]
  },
  {
   "cell_type": "code",
   "execution_count": 99,
   "id": "8afc8596",
   "metadata": {},
   "outputs": [
    {
     "name": "stdout",
     "output_type": "stream",
     "text": [
      "[1, 3, 5, 7, 9, 11, 13, 15, 17, 19, 21, 23, 25, 27, 29]\n"
     ]
    }
   ],
   "source": [
    "def get_data(d_type, rng):\n",
    "    \n",
    "    if d_type==\"odd\":\n",
    "        reminder= 0\n",
    "    elif d_type== \"even\":\n",
    "        reminder= 1\n",
    "    l=[]\n",
    "    for i in range(rng):\n",
    "        if i%2==reminder:\n",
    "            l.append(i)\n",
    "    return l\n",
    "l=get_data(\"even\",30)\n",
    "print(l)  "
   ]
  },
  {
   "cell_type": "code",
   "execution_count": 11,
   "id": "d704f6fc",
   "metadata": {},
   "outputs": [
    {
     "name": "stdout",
     "output_type": "stream",
     "text": [
      "[0, 2, 4, 6, 8, 10, 12, 14, 16, 18, 20, 22, 24, 26, 28, 30, 32, 34, 36, 38]\n"
     ]
    }
   ],
   "source": [
    "def get_data(y_type,sec):\n",
    "    if y_type==\"odd\":\n",
    "        reminder=0\n",
    "    elif y_type==\"even\":\n",
    "        reminder=1\n",
    "    l=[]\n",
    "    for i in range(sec):\n",
    "        if i%2==reminder:\n",
    "            l.append(i)\n",
    "    return l\n",
    "\n",
    "l=get_data(\"odd\",40)\n",
    "print(l)\n"
   ]
  },
  {
   "cell_type": "markdown",
   "id": "6d95049c",
   "metadata": {},
   "source": [
    "# 03/05/2023"
   ]
  },
  {
   "cell_type": "code",
   "execution_count": 13,
   "id": "3bd306fb",
   "metadata": {},
   "outputs": [
    {
     "name": "stdout",
     "output_type": "stream",
     "text": [
      "1 5 3\n"
     ]
    }
   ],
   "source": [
    "def test(a,b,c):\n",
    "    print(a,b,c)\n",
    "test(1,5,3)\n"
   ]
  },
  {
   "cell_type": "code",
   "execution_count": 16,
   "id": "b454821f",
   "metadata": {},
   "outputs": [
    {
     "name": "stdout",
     "output_type": "stream",
     "text": [
      "('syed', 'rizwan', 'dinesh', 'Krishna')\n",
      "syed rizwan\n"
     ]
    }
   ],
   "source": [
    "def test(*args):\n",
    "    print(args)\n",
    "    print(args[0],args[1])\n",
    "test(\"syed\",\"rizwan\",\"dinesh\",\"Krishna\")"
   ]
  },
  {
   "cell_type": "code",
   "execution_count": 56,
   "id": "00ea70aa",
   "metadata": {},
   "outputs": [
    {
     "name": "stdout",
     "output_type": "stream",
     "text": [
      "{'name': 'syed rizwan', 'age': 28}\n",
      "syed rizwan\n"
     ]
    }
   ],
   "source": [
    "def test(**kwargs):\n",
    "    print(kwargs)\n",
    "    print(kwargs.get(\"name\"))\n",
    "test(name=\"syed rizwan\", age= 28)"
   ]
  },
  {
   "cell_type": "code",
   "execution_count": 40,
   "id": "8973c2e6",
   "metadata": {},
   "outputs": [
    {
     "name": "stdout",
     "output_type": "stream",
     "text": [
      "hello\n",
      "hi\n",
      "hello\n"
     ]
    }
   ],
   "source": [
    "a=\"hello\"#global\n",
    "\n",
    "def test():\n",
    "    a=\"hi\"# local\n",
    "    print(a)\n",
    "print(a)#Global\n",
    "test()#calling func then printing (a)\n",
    "print(a)#local"
   ]
  },
  {
   "cell_type": "code",
   "execution_count": 44,
   "id": "79146b94",
   "metadata": {},
   "outputs": [
    {
     "name": "stdout",
     "output_type": "stream",
     "text": [
      "hello\n",
      "hi\n",
      "hi\n"
     ]
    }
   ],
   "source": [
    "a=\"hello\"#global\n",
    "\n",
    "def test():\n",
    "    global a#changing local to global \n",
    "    a=\"hi\"\n",
    "    print(a)\n",
    "print(a)\n",
    "test()#caling func then printing\n",
    "print(a)"
   ]
  },
  {
   "cell_type": "markdown",
   "id": "663959ed",
   "metadata": {},
   "source": [
    "# lambda"
   ]
  },
  {
   "cell_type": "code",
   "execution_count": 45,
   "id": "bb56b7ca",
   "metadata": {},
   "outputs": [],
   "source": [
    "def test(a,b):\n",
    "    return a+b\n",
    "a=test"
   ]
  },
  {
   "cell_type": "code",
   "execution_count": 55,
   "id": "dbbf5d38",
   "metadata": {},
   "outputs": [
    {
     "name": "stdout",
     "output_type": "stream",
     "text": [
      "9\n"
     ]
    }
   ],
   "source": [
    "test= lambda a,b :a+b## inline function to shorthen func but cannot write lenghty func\n",
    "print(test(5,4))"
   ]
  },
  {
   "cell_type": "code",
   "execution_count": 54,
   "id": "aef1165d",
   "metadata": {},
   "outputs": [
    {
     "name": "stdout",
     "output_type": "stream",
     "text": [
      "15\n"
     ]
    }
   ],
   "source": [
    "test =lambda a:a+5\n",
    "print(test(10))"
   ]
  },
  {
   "cell_type": "code",
   "execution_count": null,
   "id": "3550efb8",
   "metadata": {},
   "outputs": [],
   "source": []
  }
 ],
 "metadata": {
  "kernelspec": {
   "display_name": "Python 3 (ipykernel)",
   "language": "python",
   "name": "python3"
  },
  "language_info": {
   "codemirror_mode": {
    "name": "ipython",
    "version": 3
   },
   "file_extension": ".py",
   "mimetype": "text/x-python",
   "name": "python",
   "nbconvert_exporter": "python",
   "pygments_lexer": "ipython3",
   "version": "3.9.13"
  }
 },
 "nbformat": 4,
 "nbformat_minor": 5
}
