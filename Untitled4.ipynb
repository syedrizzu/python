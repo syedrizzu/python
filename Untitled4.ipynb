{
 "cells": [
  {
   "cell_type": "markdown",
   "id": "af47973c",
   "metadata": {},
   "source": [
    "# loop"
   ]
  },
  {
   "cell_type": "code",
   "execution_count": 1,
   "id": "ca48aee1",
   "metadata": {},
   "outputs": [],
   "source": [
    "#if /else condition"
   ]
  },
  {
   "cell_type": "code",
   "execution_count": 2,
   "id": "2ee4490a",
   "metadata": {},
   "outputs": [],
   "source": [
    "name=\"kiran\"\n",
    "age=50"
   ]
  },
  {
   "cell_type": "code",
   "execution_count": 4,
   "id": "f0264805",
   "metadata": {},
   "outputs": [
    {
     "name": "stdout",
     "output_type": "stream",
     "text": [
      "yes\n"
     ]
    }
   ],
   "source": [
    "if name == \"kiran\" and age ==50:\n",
    "    print(\"yes\")\n",
    "else:\n",
    "    print(\"no\")"
   ]
  },
  {
   "cell_type": "code",
   "execution_count": 8,
   "id": "c981a23f",
   "metadata": {},
   "outputs": [],
   "source": [
    "name =\"kiran\"\n",
    "mark =60"
   ]
  },
  {
   "cell_type": "code",
   "execution_count": 12,
   "id": "84641167",
   "metadata": {},
   "outputs": [
    {
     "name": "stdout",
     "output_type": "stream",
     "text": [
      "pass\n"
     ]
    }
   ],
   "source": [
    "if name ==\"kiran\":\n",
    "    if mark >80:\n",
    "        print(\"first class\")\n",
    "    if mark >=50:\n",
    "        print(\"pass\")\n",
    "    else:\n",
    "        print(\"fail\")\n",
    "        "
   ]
  },
  {
   "cell_type": "markdown",
   "id": "4b55e8d2",
   "metadata": {},
   "source": [
    "# elif condition"
   ]
  },
  {
   "cell_type": "code",
   "execution_count": 13,
   "id": "83c48a3d",
   "metadata": {},
   "outputs": [],
   "source": [
    "name=\"kiran\"\n",
    "mark=50"
   ]
  },
  {
   "cell_type": "code",
   "execution_count": 15,
   "id": "fcf5e114",
   "metadata": {},
   "outputs": [
    {
     "name": "stdout",
     "output_type": "stream",
     "text": [
      "name is not kiran\n"
     ]
    }
   ],
   "source": [
    "if name ==\"kira\":\n",
    "    if mark >80:\n",
    "        print(\"first class\")\n",
    "    elif mark>=90 and mark <=86:\n",
    "        print(\"pass\")\n",
    "    else:\n",
    "        print(\"fail\")\n",
    "else:\n",
    "     print(\"name is not kiran\")\n",
    "    "
   ]
  },
  {
   "cell_type": "code",
   "execution_count": null,
   "id": "fe7561f8",
   "metadata": {},
   "outputs": [],
   "source": []
  }
 ],
 "metadata": {
  "kernelspec": {
   "display_name": "Python 3 (ipykernel)",
   "language": "python",
   "name": "python3"
  },
  "language_info": {
   "codemirror_mode": {
    "name": "ipython",
    "version": 3
   },
   "file_extension": ".py",
   "mimetype": "text/x-python",
   "name": "python",
   "nbconvert_exporter": "python",
   "pygments_lexer": "ipython3",
   "version": "3.9.13"
  }
 },
 "nbformat": 4,
 "nbformat_minor": 5
}
