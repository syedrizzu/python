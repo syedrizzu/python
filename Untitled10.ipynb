{
 "cells": [
  {
   "cell_type": "code",
   "execution_count": 10,
   "id": "5fb8732f",
   "metadata": {},
   "outputs": [],
   "source": [
    "class hotel():\n",
    "    def hotel_floor(self,floor):\n",
    "        if floor==1:\n",
    "            print(\"veg\")\n",
    "        elif floor==2:\n",
    "            print(\"non veg\")\n",
    "    def hotel_dish(self,floor):\n",
    "        if floor==1:\n",
    "            print(\"veg briyani\")\n",
    "        elif floor==2:\n",
    "            print(\"chicken briyani\")\n",
    "            "
   ]
  },
  {
   "cell_type": "code",
   "execution_count": 11,
   "id": "d0045472",
   "metadata": {
    "scrolled": true
   },
   "outputs": [
    {
     "name": "stdout",
     "output_type": "stream",
     "text": [
      "<__main__.hotel object at 0x00000270F3D450D0>\n"
     ]
    }
   ],
   "source": [
    "a=hotel()\n",
    "print(a)\n"
   ]
  },
  {
   "cell_type": "code",
   "execution_count": 13,
   "id": "54776df4",
   "metadata": {},
   "outputs": [
    {
     "name": "stdout",
     "output_type": "stream",
     "text": [
      "veg\n",
      "veg briyani\n"
     ]
    }
   ],
   "source": [
    "a.hotel_floor(1)\n",
    "a.hotel_dish(1)"
   ]
  },
  {
   "cell_type": "code",
   "execution_count": 18,
   "id": "3dc80475",
   "metadata": {},
   "outputs": [
    {
     "name": "stdout",
     "output_type": "stream",
     "text": [
      "non veg\n",
      "chicken briyani\n"
     ]
    }
   ],
   "source": [
    "a.hotel_floor(2)\n",
    "a.hotel_dish(2)\n"
   ]
  },
  {
   "cell_type": "code",
   "execution_count": 57,
   "id": "ae034fec",
   "metadata": {},
   "outputs": [],
   "source": [
    "class hotel():\n",
    "    def __init__(self,a):\n",
    "        #print(\"inside constructor\")\n",
    "        self.floor = a\n",
    "    def hotel_floor(self):\n",
    "        if self.floor==1:\n",
    "            print(\"veg\")\n",
    "        elif self.floor==2:\n",
    "            print(\"non veg\")\n",
    "    def hotel_dish(self):\n",
    "        if self.floor==1:\n",
    "            print(\"veg briyani\")\n",
    "        elif self.floor==2:\n",
    "            print(\"chicken briyani\")"
   ]
  },
  {
   "cell_type": "code",
   "execution_count": 58,
   "id": "aa850bd8",
   "metadata": {},
   "outputs": [
    {
     "name": "stdout",
     "output_type": "stream",
     "text": [
      "veg\n"
     ]
    }
   ],
   "source": [
    "a=hotel(1)\n",
    "a.hotel_floor()"
   ]
  },
  {
   "cell_type": "code",
   "execution_count": 54,
   "id": "5299a598",
   "metadata": {},
   "outputs": [],
   "source": [
    "class hotel():    #try 1 \n",
    "    def __init__(self,a):\n",
    "        #print(\"inside contructor\")\n",
    "        self.floor = a\n",
    "    def hotel_floor(self):\n",
    "        if self.floor==1:\n",
    "            print(\"veg\")\n",
    "        elif self.floor==2:\n",
    "            print(\"non Veg\")\n",
    "    def hotel_dish(self):\n",
    "        if self.floor==1:\n",
    "            print(\"veg briyani\")\n",
    "        elif self.floor==2:\n",
    "            print(\"chicken briyani\")"
   ]
  },
  {
   "cell_type": "code",
   "execution_count": 55,
   "id": "0e20e077",
   "metadata": {},
   "outputs": [
    {
     "name": "stdout",
     "output_type": "stream",
     "text": [
      "veg\n"
     ]
    }
   ],
   "source": [
    "a=hotel(1)\n",
    "a.hotel_floor()"
   ]
  },
  {
   "cell_type": "code",
   "execution_count": 56,
   "id": "7d2b7ec0",
   "metadata": {},
   "outputs": [],
   "source": [
    "class fruit():\n",
    "    def __init__(self,a):\n",
    "        self.fruit=a\n",
    "    def get.unique(self):\n",
    "        for i in self.fruit:\n",
    "        \n",
    "    "
   ]
  },
  {
   "cell_type": "code",
   "execution_count": null,
   "id": "d06da387",
   "metadata": {},
   "outputs": [],
   "source": []
  }
 ],
 "metadata": {
  "kernelspec": {
   "display_name": "Python 3 (ipykernel)",
   "language": "python",
   "name": "python3"
  },
  "language_info": {
   "codemirror_mode": {
    "name": "ipython",
    "version": 3
   },
   "file_extension": ".py",
   "mimetype": "text/x-python",
   "name": "python",
   "nbconvert_exporter": "python",
   "pygments_lexer": "ipython3",
   "version": "3.9.13"
  }
 },
 "nbformat": 4,
 "nbformat_minor": 5
}
